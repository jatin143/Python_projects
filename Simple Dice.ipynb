{
 "cells": [
  {
   "cell_type": "code",
   "execution_count": 1,
   "metadata": {},
   "outputs": [],
   "source": [
    "import random\n",
    "x = random.randint(1,6)"
   ]
  },
  {
   "cell_type": "code",
   "execution_count": 2,
   "metadata": {},
   "outputs": [
    {
     "name": "stdout",
     "output_type": "stream",
     "text": [
      "This is a Dice Game !!!\n",
      "------------\n",
      "|     0    |\n",
      "|     0    |\n",
      "|     0    |\n",
      "------------\n",
      "y or  ny\n",
      "------------\n",
      "|          |\n",
      "|     0    |\n",
      "|          |\n",
      "------------\n",
      "y or  nn\n"
     ]
    }
   ],
   "source": [
    "import random\n",
    "print(\"This is a Dice Game !!!\")\n",
    "x = \"y\"\n",
    "while x==\"y\" :\n",
    "    x = random.randint(1,6)\n",
    "    if x == 1:\n",
    "        \n",
    "        print(\"------------\")\n",
    "        print(\"|          |\")\n",
    "        print(\"|     0    |\")\n",
    "        print(\"|          |\")\n",
    "        print(\"------------\")\n",
    "    elif x == 2:\n",
    "        print(\"------------\")\n",
    "        print(\"|          |\")\n",
    "        print(\"| 0      0 |\")\n",
    "        print(\"|          |\")\n",
    "        print(\"------------\")\n",
    "    elif x == 3:\n",
    "        print(\"------------\")\n",
    "        print(\"|     0    |\")\n",
    "        print(\"|     0    |\")\n",
    "        print(\"|     0    |\")\n",
    "        print(\"------------\")\n",
    "    elif x == 4:\n",
    "        print(\"------------\")\n",
    "        print(\"|0        0|\")\n",
    "        print(\"|          |\")\n",
    "        print(\"|0        0|\")\n",
    "        print(\"------------\")\n",
    "    elif x == 5:\n",
    "        print(\"------------\")\n",
    "        print(\"|0        0|\")\n",
    "        print(\"|     0    |\")\n",
    "        print(\"|0        0|\")\n",
    "        print(\"------------\")\n",
    "    elif x == 6:\n",
    "        print(\"------------\")\n",
    "        print(\"|0       0 |\")\n",
    "        print(\"|0       0 |\")\n",
    "        print(\"|0       0 |\")\n",
    "        print(\"------------\")\n",
    "    x = input(\"y or  n\")    "
   ]
  }
 ],
 "metadata": {
  "kernelspec": {
   "display_name": "Python 3",
   "language": "python",
   "name": "python3"
  },
  "language_info": {
   "codemirror_mode": {
    "name": "ipython",
    "version": 3
   },
   "file_extension": ".py",
   "mimetype": "text/x-python",
   "name": "python",
   "nbconvert_exporter": "python",
   "pygments_lexer": "ipython3",
   "version": "3.7.3"
  }
 },
 "nbformat": 4,
 "nbformat_minor": 2
}
